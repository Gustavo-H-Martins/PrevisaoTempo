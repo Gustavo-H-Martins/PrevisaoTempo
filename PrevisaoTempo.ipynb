{
 "cells": [
  {
   "attachments": {},
   "cell_type": "markdown",
   "id": "6c23341f",
   "metadata": {},
   "source": [
    "## [NERD DOS DADOS](https://www.youtube.com/watch?v=A6Nv3oY5lYc&)- Previsões do Tempo em Python\n",
    "Usado por mim Gustavo\n",
    "<p> https://openweathermap.org/"
   ]
  },
  {
   "cell_type": "code",
   "execution_count": null,
   "id": "0491f7fe",
   "metadata": {},
   "outputs": [],
   "source": [
    "#!pip install requests\n",
    "from requests import get\n",
    "# esse os é só pra melhorar a formatação da resposta\n",
    "import os"
   ]
  },
  {
   "cell_type": "code",
   "execution_count": null,
   "id": "626ec63b",
   "metadata": {},
   "outputs": [],
   "source": [
    "API_KEY = \"21c151cef324aa5da381fddbb22e397c\"\n",
    "# API_KEY = \"---SUA-KEY-AQUI---\""
   ]
  },
  {
   "cell_type": "code",
   "execution_count": null,
   "id": "3cc96cf0",
   "metadata": {},
   "outputs": [],
   "source": [
    "capitais = open('./capitais.csv', 'r', encoding='utf-8').readlines()"
   ]
  },
  {
   "cell_type": "code",
   "execution_count": null,
   "id": "bede7ea7",
   "metadata": {},
   "outputs": [],
   "source": [
    "def get_temperatura(latitude:str = '', longitude:str = '', local:str=''):\n",
    "    link = f'https://api.openweathermap.org/data/2.5/weather?'#lat={lat}&lon={lon}&appid={API_KEY}&lang=pt_br'\n",
    "    params = {\n",
    "        'lat' : latitude,\n",
    "        'lon' : longitude,\n",
    "        'appid':API_KEY,\n",
    "        'lang':'pt_br',\n",
    "        'q': local\n",
    "    }\n",
    "    # 400,401,404 Não Funcionou\n",
    "    try: \n",
    "        requisicao = get(link, params=params)\n",
    "        # Observe que ele irá retornar um dicionaário com outros dicionário e listas dentro\n",
    "        \"\"\"print(requisicao.json())\"\"\"\n",
    "\n",
    "        # Primeiro Passo - Capturar somente a temperatura\n",
    "        # Segundo Passo - Capturar o clima\n",
    "        # Converter a temperatura para graus celsius, pois ela vem em Kelvin por padrão\n",
    "        # Converter o clima para Português do Brasil\n",
    "        # Vamos armazenar o Json em uma variável chamada requisicao_dic\n",
    "        requisicao_dic = requisicao.json()\n",
    "        # Vamos armazenar o clima em uma variavel chamada descrição\n",
    "        # Observe que temos uma lista dentro do dicionário...e Essa lista só tem um único item, então pegaremos o índice 0 (zero)\n",
    "        descricao = requisicao_dic['weather'][0]['description']\n",
    "        # Vamos armazenar a temperatura em uma variavel chamada descrição\n",
    "        # Observe que a temperatura está dentro de um dicionario, chamado main\n",
    "        temperatura = requisicao_dic['main']['temp'] - 273.15\n",
    "        temp_max = requisicao_dic['main']['temp_max'] - 273.15\n",
    "        temp_min = requisicao_dic['main']['temp_min'] - 273.15\n",
    "        umidade = requisicao_dic['main']['humidity']\n",
    "        # Apenas arredondando a temperatura\n",
    "        # Inserindo o simbolo de ºC\n",
    "        print (f\"\"\"\n",
    "        {os.linesep}O tempo em {requisicao_dic['name']} é : {descricao} \n",
    "        {os.linesep}Temperatura de {round(temperatura,2)}ºC \n",
    "        {os.linesep}Máxima de {round(temp_max,2)}ºC, Mínima de {round(temp_min,2)}ºC\n",
    "        {os.linesep}Mmidade relativa do ar em {umidade}%\"\"\")\n",
    "    except Exception as e:\n",
    "        print(f\"Não encontrado informação para o local solicitado, deu erro em : {e}\")\n",
    "        pass"
   ]
  },
  {
   "cell_type": "code",
   "execution_count": null,
   "id": "03dda511",
   "metadata": {},
   "outputs": [],
   "source": [
    "# As informações entre CHAVES são variaveis para passar de parametro para API\n",
    "for capital in capitais[1:]:\n",
    "    chunck_capital = capital.split(',')\n",
    "    name_capital = chunck_capital[2]\n",
    "    latitude = chunck_capital[3]\n",
    "    longitude = chunck_capital[4].replace('\\n', '')\n",
    "    get_temperatura(latitude, longitude)\n",
    "    break\n"
   ]
  },
  {
   "cell_type": "code",
   "execution_count": null,
   "id": "4975fbdc",
   "metadata": {},
   "outputs": [],
   "source": [
    "get_temperatura(local='Açailândia')"
   ]
  },
  {
   "cell_type": "markdown",
   "id": "008258d5",
   "metadata": {},
   "source": []
  }
 ],
 "metadata": {
  "kernelspec": {
   "display_name": "Python 3 (ipykernel)",
   "language": "python",
   "name": "python3"
  },
  "language_info": {
   "codemirror_mode": {
    "name": "ipython",
    "version": 3
   },
   "file_extension": ".py",
   "mimetype": "text/x-python",
   "name": "python",
   "nbconvert_exporter": "python",
   "pygments_lexer": "ipython3",
   "version": "3.11.0"
  }
 },
 "nbformat": 4,
 "nbformat_minor": 5
}
